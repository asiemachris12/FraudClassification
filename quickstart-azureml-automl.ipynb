{
  "cells": [
    {
      "cell_type": "markdown",
      "metadata": {},
      "source": [
        "![Impressions](https://PixelServer20190423114238.azurewebsites.net/api/impressions/MachineLearningNotebooks/tutorials/quickstart-ci/ClassificationWithAutomatedML.png)"
      ]
    },
    {
      "cell_type": "markdown",
      "metadata": {
        "nteract": {
          "transient": {
            "deleting": false
          }
        }
      },
      "source": [
        "# Quickstart: Fraud Classification using Automated ML\n",
        "\n",
        "In this quickstart, you use automated machine learning in Azure Machine Learning service to  train a classification model on an associated fraud credit card dataset. This process accepts training data and configuration settings, and automatically iterates through combinations of different feature normalization/standardization methods, models, and hyperparameter settings to arrive at the best model.\n",
        "\n",
        "You will learn how to:\n",
        "\n",
        "> * Download a dataset and look at the data\n",
        "> * Train a machine learning classification model using autoML \n",
        "> * Explore the results\n"
      ]
    },
    {
      "cell_type": "markdown",
      "metadata": {
        "nteract": {
          "transient": {
            "deleting": false
          }
        }
      },
      "source": [
        "### Connect to your workspace and create an experiment\n",
        "\n",
        "You start with importing some libraries and creating an experiment to track the runs in your workspace. A workspace can have multiple experiments, and all the users that have access to the workspace can collaborate on them. "
      ]
    },
    {
      "cell_type": "code",
      "execution_count": 2,
      "metadata": {
        "gather": {
          "logged": 1612968646250
        },
        "jupyter": {
          "outputs_hidden": false,
          "source_hidden": false
        },
        "nteract": {
          "transient": {
            "deleting": false
          }
        }
      },
      "outputs": [],
      "source": [
        "import logging\n",
        "\n",
        "from matplotlib import pyplot as plt\n",
        "import pandas as pd\n",
        "import numpy as np\n",
        "\n",
        "import azureml.core\n",
        "from azureml.core.experiment import Experiment\n",
        "from azureml.core.workspace import Workspace\n",
        "from azureml.core.dataset import Dataset\n",
        "from azureml.train.automl import AutoMLConfig"
      ]
    },
    {
      "cell_type": "code",
      "execution_count": 3,
      "metadata": {
        "gather": {
          "logged": 1612968706273
        },
        "jupyter": {
          "outputs_hidden": false,
          "source_hidden": false
        },
        "nteract": {
          "transient": {
            "deleting": false
          }
        }
      },
      "outputs": [],
      "source": [
        "ws = Workspace.from_config()\n",
        "\n",
        "# choose a name for your experiment\n",
        "experiment_name = \"fraud-classification-automl-tutorial\"\n",
        "\n",
        "experiment = Experiment(ws, experiment_name)"
      ]
    },
    {
      "cell_type": "markdown",
      "metadata": {
        "nteract": {
          "transient": {
            "deleting": false
          }
        }
      },
      "source": [
        "### Load Data\n",
        "\n",
        "Load the credit card dataset from a csv file containing both training features and labels. The features are inputs to the model, while the training labels represent the expected output of the model. Next, we'll split the data using random_split and extract the training data for the model.\n",
        "\n",
        "\n",
        "Follow this [how-to](https://aka.ms/azureml/howto/createdatasets) if you want to learn more about Datasets and how to use them.\n",
        "\n",
        "\n"
      ]
    },
    {
      "cell_type": "code",
      "execution_count": 4,
      "metadata": {
        "gather": {
          "logged": 1612968722555
        },
        "jupyter": {
          "outputs_hidden": false,
          "source_hidden": false
        },
        "nteract": {
          "transient": {
            "deleting": false
          }
        }
      },
      "outputs": [],
      "source": [
        "data = \"https://automlsamplenotebookdata.blob.core.windows.net/automl-sample-notebook-data/creditcard.csv\"\n",
        "dataset = Dataset.Tabular.from_delimited_files(data)\n",
        "training_data, validation_data = dataset.random_split(percentage=0.8, seed=223)\n",
        "label_column_name = \"Class\""
      ]
    },
    {
      "cell_type": "markdown",
      "metadata": {
        "nteract": {
          "transient": {
            "deleting": false
          }
        }
      },
      "source": [
        "## Train\n",
        "\n",
        "\n",
        "\n",
        "When you use automated machine learning in Azure ML, you input training data and configuration settings, and the process automatically iterates through combinations of different feature normalization/standardization methods, models, and hyperparameter settings to arrive at the best model. \n",
        "Learn more about how you configure automated ML [here](https://docs.microsoft.com/azure/machine-learning/how-to-configure-auto-train).\n",
        "\n",
        "\n",
        "Instantiate an [AutoMLConfig](https://docs.microsoft.com/python/api/azureml-train-automl-client/azureml.train.automl.automlconfig.automlconfig?view=azure-ml-py) object. This defines the settings and data used to run the experiment.\n",
        "\n",
        "|Property|Description|\n",
        "|-|-|\n",
        "|**task**|classification or regression|\n",
        "|**primary_metric**|This is the metric that you want to optimize. \n",
        "|**enable_early_stopping**  | Stop the run if the metric score is not showing improvement.|\n",
        "|**n_cross_validations**|Number of cross validation splits.|\n",
        "|**training_data**|Input dataset, containing both features and label column.|\n",
        "|**label_column_name**|The name of the label column.|\n",
        "\n",
        "You can find more information about primary metrics [here](https://docs.microsoft.com/azure/machine-learning/service/how-to-configure-auto-train#primary-metric)"
      ]
    },
    {
      "cell_type": "code",
      "execution_count": 5,
      "metadata": {
        "gather": {
          "logged": 1612968806233
        },
        "jupyter": {
          "outputs_hidden": false,
          "source_hidden": false
        },
        "nteract": {
          "transient": {
            "deleting": false
          }
        }
      },
      "outputs": [],
      "source": [
        "automl_settings = {\n",
        "    \"n_cross_validations\": 3,\n",
        "    \"primary_metric\": \"average_precision_score_weighted\",\n",
        "    \"experiment_timeout_hours\": 0.25,  # This is a time limit for testing purposes, remove it for real use cases, this will drastically limit ability to find the best model possible\n",
        "    \"verbosity\": logging.INFO,\n",
        "    \"enable_stack_ensemble\": False,\n",
        "}\n",
        "\n",
        "automl_config = AutoMLConfig(\n",
        "    task=\"classification\",\n",
        "    debug_log=\"automl_errors.log\",\n",
        "    training_data=training_data,\n",
        "    label_column_name=label_column_name,\n",
        "    **automl_settings,\n",
        ")"
      ]
    },
    {
      "cell_type": "markdown",
      "metadata": {
        "nteract": {
          "transient": {
            "deleting": false
          }
        }
      },
      "source": [
        "Call the `submit` method on the experiment object and pass the run configuration. \n",
        "\n",
        "**Note: Depending on the data and the number of iterations an AutoML run can take a while to complete.**\n",
        "\n",
        "In this example, we specify `show_output = True` to print currently running iterations to the console. It is also possible to navigate to the experiment through the **Experiment** activity tab in the left menu, and monitor the run status from there."
      ]
    },
    {
      "cell_type": "code",
      "execution_count": 6,
      "metadata": {
        "gather": {
          "logged": 1612970125369
        },
        "jupyter": {
          "outputs_hidden": false,
          "source_hidden": false
        },
        "nteract": {
          "transient": {
            "deleting": false
          }
        }
      },
      "outputs": [
        {
          "ename": "ValidationException",
          "evalue": "ValidationException:\n\tMessage: Install the required versions of packages using the requirements file. Requirements file location: /anaconda/envs/azureml_py310_sdkv2/lib/python3.10/site-packages/azureml/automl/core/validated_linux_requirements.txt. Alternatively, use remote target to avoid dependency management. \nRequired version/Installed version\nazure-core<=1.30.1/azure-core==1.30.2\nazure-mgmt-network<=25.3.0/azure-mgmt-network==25.4.0\nazure-storage-blob<=12.19.0/azure-storage-blob==12.20.0\nbcrypt<=4.1.2/bcrypt==4.1.3\ndocker<=7.0.0/docker==7.1.0\njmespath<=0.10.0/jmespath==1.0.1\njoblib<=1.2.0/joblib==1.4.2\njsonpickle<=3.0.4/jsonpickle==3.2.1\njsonschema<=4.21.1/jsonschema==4.22.0\nmlflow-skinny<=2.12.1/mlflow-skinny==2.13.2\npandas<=1.3.5/pandas==2.2.2\npkginfo<=1.10.0/pkginfo==1.11.1\nprotobuf<=3.20.3/protobuf==4.25.3\npsutil<=5.9.3/psutil==5.9.8\npyarrow<=14.0.2/pyarrow==15.0.2\npygments<=2.17.2/pygments==2.18.0\nreferencing<=0.35.0/referencing==0.35.1\nrpds-py<=0.18.0/rpds-py==0.18.1\nscikit-learn<=1.1.3/scikit-learn==1.5.0\nscipy<=1.10.1/scipy==1.13.1\nthreadpoolctl<=3.4.0/threadpoolctl==3.5.0\ntornado<=6.4/tornado==6.4.1\ntyping-extensions<=4.11.0/typing-extensions==4.12.2\nzipp<=3.18.1/zipp==3.19.2\n\tInnerException: None\n\tErrorResponse \n{\n    \"error\": {\n        \"code\": \"UserError\",\n        \"message\": \"Install the required versions of packages using the requirements file. Requirements file location: /anaconda/envs/azureml_py310_sdkv2/lib/python3.10/site-packages/azureml/automl/core/validated_linux_requirements.txt. Alternatively, use remote target to avoid dependency management. \\nRequired version/Installed version\\nazure-core<=1.30.1/azure-core==1.30.2\\nazure-mgmt-network<=25.3.0/azure-mgmt-network==25.4.0\\nazure-storage-blob<=12.19.0/azure-storage-blob==12.20.0\\nbcrypt<=4.1.2/bcrypt==4.1.3\\ndocker<=7.0.0/docker==7.1.0\\njmespath<=0.10.0/jmespath==1.0.1\\njoblib<=1.2.0/joblib==1.4.2\\njsonpickle<=3.0.4/jsonpickle==3.2.1\\njsonschema<=4.21.1/jsonschema==4.22.0\\nmlflow-skinny<=2.12.1/mlflow-skinny==2.13.2\\npandas<=1.3.5/pandas==2.2.2\\npkginfo<=1.10.0/pkginfo==1.11.1\\nprotobuf<=3.20.3/protobuf==4.25.3\\npsutil<=5.9.3/psutil==5.9.8\\npyarrow<=14.0.2/pyarrow==15.0.2\\npygments<=2.17.2/pygments==2.18.0\\nreferencing<=0.35.0/referencing==0.35.1\\nrpds-py<=0.18.0/rpds-py==0.18.1\\nscikit-learn<=1.1.3/scikit-learn==1.5.0\\nscipy<=1.10.1/scipy==1.13.1\\nthreadpoolctl<=3.4.0/threadpoolctl==3.5.0\\ntornado<=6.4/tornado==6.4.1\\ntyping-extensions<=4.11.0/typing-extensions==4.12.2\\nzipp<=3.18.1/zipp==3.19.2\",\n        \"inner_error\": {\n            \"code\": \"NotSupported\",\n            \"inner_error\": {\n                \"code\": \"IncompatibleOrMissingDependency\"\n            }\n        },\n        \"reference_code\": \"65e7ad52-ad1f-4915-85ad-440d0a5e221f\"\n    }\n}",
          "output_type": "error",
          "traceback": [
            "\u001b[0;31m---------------------------------------------------------------------------\u001b[0m",
            "\u001b[0;31mValidationException\u001b[0m                       Traceback (most recent call last)",
            "Cell \u001b[0;32mIn[6], line 1\u001b[0m\n\u001b[0;32m----> 1\u001b[0m local_run \u001b[38;5;241m=\u001b[39m \u001b[43mexperiment\u001b[49m\u001b[38;5;241;43m.\u001b[39;49m\u001b[43msubmit\u001b[49m\u001b[43m(\u001b[49m\u001b[43mautoml_config\u001b[49m\u001b[43m,\u001b[49m\u001b[43m \u001b[49m\u001b[43mshow_output\u001b[49m\u001b[38;5;241;43m=\u001b[39;49m\u001b[38;5;28;43;01mTrue\u001b[39;49;00m\u001b[43m)\u001b[49m\n",
            "File \u001b[0;32m/anaconda/envs/azureml_py310_sdkv2/lib/python3.10/site-packages/azureml/core/experiment.py:238\u001b[0m, in \u001b[0;36mExperiment.submit\u001b[0;34m(self, config, tags, **kwargs)\u001b[0m\n\u001b[1;32m    236\u001b[0m submit_func \u001b[38;5;241m=\u001b[39m get_experiment_submit(config)\n\u001b[1;32m    237\u001b[0m \u001b[38;5;28;01mwith\u001b[39;00m \u001b[38;5;28mself\u001b[39m\u001b[38;5;241m.\u001b[39m_log_context(\u001b[38;5;124m\"\u001b[39m\u001b[38;5;124msubmit config \u001b[39m\u001b[38;5;132;01m{}\u001b[39;00m\u001b[38;5;124m\"\u001b[39m\u001b[38;5;241m.\u001b[39mformat(config\u001b[38;5;241m.\u001b[39m\u001b[38;5;18m__class__\u001b[39m\u001b[38;5;241m.\u001b[39m\u001b[38;5;18m__name__\u001b[39m)):\n\u001b[0;32m--> 238\u001b[0m     run \u001b[38;5;241m=\u001b[39m \u001b[43msubmit_func\u001b[49m\u001b[43m(\u001b[49m\u001b[43mconfig\u001b[49m\u001b[43m,\u001b[49m\u001b[43m \u001b[49m\u001b[38;5;28;43mself\u001b[39;49m\u001b[38;5;241;43m.\u001b[39;49m\u001b[43mworkspace\u001b[49m\u001b[43m,\u001b[49m\u001b[43m \u001b[49m\u001b[38;5;28;43mself\u001b[39;49m\u001b[38;5;241;43m.\u001b[39;49m\u001b[43mname\u001b[49m\u001b[43m,\u001b[49m\u001b[43m \u001b[49m\u001b[38;5;241;43m*\u001b[39;49m\u001b[38;5;241;43m*\u001b[39;49m\u001b[43mkwargs\u001b[49m\u001b[43m)\u001b[49m\n\u001b[1;32m    239\u001b[0m \u001b[38;5;28;01mif\u001b[39;00m tags \u001b[38;5;129;01mis\u001b[39;00m \u001b[38;5;129;01mnot\u001b[39;00m \u001b[38;5;28;01mNone\u001b[39;00m:\n\u001b[1;32m    240\u001b[0m     run\u001b[38;5;241m.\u001b[39mset_tags(tags)\n",
            "File \u001b[0;32m/anaconda/envs/azureml_py310_sdkv2/lib/python3.10/site-packages/azureml/train/automl/automlconfig.py:103\u001b[0m, in \u001b[0;36m_automl_static_submit\u001b[0;34m(automl_config_object, workspace, experiment_name, **kwargs)\u001b[0m\n\u001b[1;32m    100\u001b[0m settings \u001b[38;5;241m=\u001b[39m _azureautomlsettings\u001b[38;5;241m.\u001b[39mAzureAutoMLSettings(experiment\u001b[38;5;241m=\u001b[39mexperiment, \u001b[38;5;241m*\u001b[39m\u001b[38;5;241m*\u001b[39msettings_dict)\n\u001b[1;32m    102\u001b[0m \u001b[38;5;28;01mwith\u001b[39;00m log_server\u001b[38;5;241m.\u001b[39mnew_log_context(parent_run_id\u001b[38;5;241m=\u001b[39mparent_run_id):\n\u001b[0;32m--> 103\u001b[0m     automl_run \u001b[38;5;241m=\u001b[39m \u001b[43m_start_execution\u001b[49m\u001b[43m(\u001b[49m\n\u001b[1;32m    104\u001b[0m \u001b[43m        \u001b[49m\u001b[43mexperiment\u001b[49m\u001b[43m,\u001b[49m\n\u001b[1;32m    105\u001b[0m \u001b[43m        \u001b[49m\u001b[43msettings\u001b[49m\u001b[43m,\u001b[49m\n\u001b[1;32m    106\u001b[0m \u001b[43m        \u001b[49m\u001b[43mfit_params\u001b[49m\u001b[43m,\u001b[49m\n\u001b[1;32m    107\u001b[0m \u001b[43m        \u001b[49m\u001b[43mrun_config\u001b[49m\u001b[43m,\u001b[49m\n\u001b[1;32m    108\u001b[0m \u001b[43m        \u001b[49m\u001b[43mcompute_target\u001b[49m\u001b[43m,\u001b[49m\n\u001b[1;32m    109\u001b[0m \u001b[43m        \u001b[49m\u001b[43mparent_run_id\u001b[49m\u001b[43m,\u001b[49m\n\u001b[1;32m    110\u001b[0m \u001b[43m        \u001b[49m\u001b[43mshow_output\u001b[49m\u001b[43m)\u001b[49m\n\u001b[1;32m    112\u001b[0m     automl_run\u001b[38;5;241m.\u001b[39madd_properties(global_tracking_info_registry\u001b[38;5;241m.\u001b[39mgather_all(settings\u001b[38;5;241m.\u001b[39mpath))\n\u001b[1;32m    114\u001b[0m     \u001b[38;5;28;01mreturn\u001b[39;00m automl_run\n",
            "File \u001b[0;32m/anaconda/envs/azureml_py310_sdkv2/lib/python3.10/site-packages/azureml/train/automl/automlconfig.py:221\u001b[0m, in \u001b[0;36m_start_execution\u001b[0;34m(experiment, settings_obj, fit_params, run_config, compute_target, parent_run_id, show_output)\u001b[0m\n\u001b[1;32m    219\u001b[0m     _disable_mlflow(settings_obj)\n\u001b[1;32m    220\u001b[0m     \u001b[38;5;28;01mif\u001b[39;00m \u001b[38;5;129;01mnot\u001b[39;00m settings_obj\u001b[38;5;241m.\u001b[39m_ignore_package_version_incompatibilities:\n\u001b[0;32m--> 221\u001b[0m         \u001b[43mpackage_utilities\u001b[49m\u001b[38;5;241;43m.\u001b[39;49m\u001b[43m_get_package_incompatibilities\u001b[49m\u001b[43m(\u001b[49m\n\u001b[1;32m    222\u001b[0m \u001b[43m            \u001b[49m\u001b[43mpackages\u001b[49m\u001b[38;5;241;43m=\u001b[39;49m\u001b[43mpackage_utilities\u001b[49m\u001b[38;5;241;43m.\u001b[39;49m\u001b[43mAUTOML_PACKAGES\u001b[49m\u001b[43m,\u001b[49m\n\u001b[1;32m    223\u001b[0m \u001b[43m            \u001b[49m\u001b[43mignored_dependencies\u001b[49m\u001b[38;5;241;43m=\u001b[39;49m\u001b[43mpackage_utilities\u001b[49m\u001b[38;5;241;43m.\u001b[39;49m\u001b[43m_PACKAGES_TO_IGNORE_VERSIONS\u001b[49m\n\u001b[1;32m    224\u001b[0m \u001b[43m        \u001b[49m\u001b[43m)\u001b[49m\n\u001b[1;32m    225\u001b[0m     automl_run \u001b[38;5;241m=\u001b[39m _default_execution(experiment, settings_obj, fit_params, \u001b[38;5;28;01mTrue\u001b[39;00m, show_output, parent_run_id)\n\u001b[1;32m    226\u001b[0m \u001b[38;5;28;01melif\u001b[39;00m is_managed:\n",
            "File \u001b[0;32m/anaconda/envs/azureml_py310_sdkv2/lib/python3.10/site-packages/azureml/automl/core/package_utilities.py:534\u001b[0m, in \u001b[0;36m_get_package_incompatibilities\u001b[0;34m(packages, ignored_dependencies, is_databricks_run)\u001b[0m\n\u001b[1;32m    525\u001b[0m         \u001b[38;5;28;01mraise\u001b[39;00m ValidationException\u001b[38;5;241m.\u001b[39m_with_error(\n\u001b[1;32m    526\u001b[0m             AzureMLError\u001b[38;5;241m.\u001b[39mcreate(\n\u001b[1;32m    527\u001b[0m                 IncompatibleOrMissingDependencyDatabricks,\n\u001b[0;32m   (...)\u001b[0m\n\u001b[1;32m    531\u001b[0m                 reference_code\u001b[38;5;241m=\u001b[39mReferenceCodes\u001b[38;5;241m.\u001b[39m_UNVERIFIED_PACKAGES_ADB,\n\u001b[1;32m    532\u001b[0m             ))\n\u001b[1;32m    533\u001b[0m     \u001b[38;5;28;01melse\u001b[39;00m:\n\u001b[0;32m--> 534\u001b[0m         \u001b[38;5;28;01mraise\u001b[39;00m ValidationException\u001b[38;5;241m.\u001b[39m_with_error(\n\u001b[1;32m    535\u001b[0m             AzureMLError\u001b[38;5;241m.\u001b[39mcreate(\n\u001b[1;32m    536\u001b[0m                 IncompatibleOrMissingDependency,\n\u001b[1;32m    537\u001b[0m                 target\u001b[38;5;241m=\u001b[39m\u001b[38;5;124m'\u001b[39m\u001b[38;5;124m,\u001b[39m\u001b[38;5;124m'\u001b[39m\u001b[38;5;241m.\u001b[39mjoin(incompatible_packages\u001b[38;5;241m.\u001b[39mkeys()),\n\u001b[1;32m    538\u001b[0m                 missing_packages_message_header\u001b[38;5;241m=\u001b[39m\u001b[38;5;124m'\u001b[39m\u001b[38;5;124mRequired version/Installed version\u001b[39m\u001b[38;5;124m'\u001b[39m,\n\u001b[1;32m    539\u001b[0m                 missing_packages_message\u001b[38;5;241m=\u001b[39m\u001b[38;5;124m'\u001b[39m\u001b[38;5;130;01m\\n\u001b[39;00m\u001b[38;5;124m'\u001b[39m\u001b[38;5;241m.\u001b[39mjoin(messages),\n\u001b[1;32m    540\u001b[0m                 reference_code\u001b[38;5;241m=\u001b[39mReferenceCodes\u001b[38;5;241m.\u001b[39m_UNVERIFIED_PACKAGES,\n\u001b[1;32m    541\u001b[0m                 validated_requirements_file_path\u001b[38;5;241m=\u001b[39mVALIDATED_REQ_FILE_PATH\n\u001b[1;32m    542\u001b[0m             ))\n\u001b[1;32m    544\u001b[0m logger\u001b[38;5;241m.\u001b[39minfo(\u001b[38;5;124m\"\u001b[39m\u001b[38;5;124mNo package incompatibilities found.\u001b[39m\u001b[38;5;124m\"\u001b[39m)\n",
            "\u001b[0;31mValidationException\u001b[0m: ValidationException:\n\tMessage: Install the required versions of packages using the requirements file. Requirements file location: /anaconda/envs/azureml_py310_sdkv2/lib/python3.10/site-packages/azureml/automl/core/validated_linux_requirements.txt. Alternatively, use remote target to avoid dependency management. \nRequired version/Installed version\nazure-core<=1.30.1/azure-core==1.30.2\nazure-mgmt-network<=25.3.0/azure-mgmt-network==25.4.0\nazure-storage-blob<=12.19.0/azure-storage-blob==12.20.0\nbcrypt<=4.1.2/bcrypt==4.1.3\ndocker<=7.0.0/docker==7.1.0\njmespath<=0.10.0/jmespath==1.0.1\njoblib<=1.2.0/joblib==1.4.2\njsonpickle<=3.0.4/jsonpickle==3.2.1\njsonschema<=4.21.1/jsonschema==4.22.0\nmlflow-skinny<=2.12.1/mlflow-skinny==2.13.2\npandas<=1.3.5/pandas==2.2.2\npkginfo<=1.10.0/pkginfo==1.11.1\nprotobuf<=3.20.3/protobuf==4.25.3\npsutil<=5.9.3/psutil==5.9.8\npyarrow<=14.0.2/pyarrow==15.0.2\npygments<=2.17.2/pygments==2.18.0\nreferencing<=0.35.0/referencing==0.35.1\nrpds-py<=0.18.0/rpds-py==0.18.1\nscikit-learn<=1.1.3/scikit-learn==1.5.0\nscipy<=1.10.1/scipy==1.13.1\nthreadpoolctl<=3.4.0/threadpoolctl==3.5.0\ntornado<=6.4/tornado==6.4.1\ntyping-extensions<=4.11.0/typing-extensions==4.12.2\nzipp<=3.18.1/zipp==3.19.2\n\tInnerException: None\n\tErrorResponse \n{\n    \"error\": {\n        \"code\": \"UserError\",\n        \"message\": \"Install the required versions of packages using the requirements file. Requirements file location: /anaconda/envs/azureml_py310_sdkv2/lib/python3.10/site-packages/azureml/automl/core/validated_linux_requirements.txt. Alternatively, use remote target to avoid dependency management. \\nRequired version/Installed version\\nazure-core<=1.30.1/azure-core==1.30.2\\nazure-mgmt-network<=25.3.0/azure-mgmt-network==25.4.0\\nazure-storage-blob<=12.19.0/azure-storage-blob==12.20.0\\nbcrypt<=4.1.2/bcrypt==4.1.3\\ndocker<=7.0.0/docker==7.1.0\\njmespath<=0.10.0/jmespath==1.0.1\\njoblib<=1.2.0/joblib==1.4.2\\njsonpickle<=3.0.4/jsonpickle==3.2.1\\njsonschema<=4.21.1/jsonschema==4.22.0\\nmlflow-skinny<=2.12.1/mlflow-skinny==2.13.2\\npandas<=1.3.5/pandas==2.2.2\\npkginfo<=1.10.0/pkginfo==1.11.1\\nprotobuf<=3.20.3/protobuf==4.25.3\\npsutil<=5.9.3/psutil==5.9.8\\npyarrow<=14.0.2/pyarrow==15.0.2\\npygments<=2.17.2/pygments==2.18.0\\nreferencing<=0.35.0/referencing==0.35.1\\nrpds-py<=0.18.0/rpds-py==0.18.1\\nscikit-learn<=1.1.3/scikit-learn==1.5.0\\nscipy<=1.10.1/scipy==1.13.1\\nthreadpoolctl<=3.4.0/threadpoolctl==3.5.0\\ntornado<=6.4/tornado==6.4.1\\ntyping-extensions<=4.11.0/typing-extensions==4.12.2\\nzipp<=3.18.1/zipp==3.19.2\",\n        \"inner_error\": {\n            \"code\": \"NotSupported\",\n            \"inner_error\": {\n                \"code\": \"IncompatibleOrMissingDependency\"\n            }\n        },\n        \"reference_code\": \"65e7ad52-ad1f-4915-85ad-440d0a5e221f\"\n    }\n}"
          ]
        }
      ],
      "source": [
        "local_run = experiment.submit(automl_config, show_output=True)"
      ]
    },
    {
      "cell_type": "code",
      "execution_count": null,
      "metadata": {
        "gather": {
          "logged": 1612976292559
        },
        "jupyter": {
          "outputs_hidden": false,
          "source_hidden": false
        },
        "nteract": {
          "transient": {
            "deleting": false
          }
        }
      },
      "outputs": [],
      "source": [
        "local_run"
      ]
    },
    {
      "cell_type": "markdown",
      "metadata": {
        "nteract": {
          "transient": {
            "deleting": false
          }
        }
      },
      "source": [
        "### Analyze results\n",
        "\n",
        "Below we select the best model from our iterations. The `get_output` method on `automl_classifier` returns the best run and the model for the run."
      ]
    },
    {
      "cell_type": "code",
      "execution_count": null,
      "metadata": {
        "gather": {
          "logged": 1612976298373
        },
        "jupyter": {
          "outputs_hidden": false,
          "source_hidden": false
        },
        "nteract": {
          "transient": {
            "deleting": false
          }
        }
      },
      "outputs": [],
      "source": [
        "best_run, best_model = local_run.get_output()\n",
        "best_model"
      ]
    },
    {
      "cell_type": "markdown",
      "metadata": {
        "nteract": {
          "transient": {
            "deleting": false
          }
        }
      },
      "source": [
        "## Tests\n",
        "\n",
        "Now that the model is trained, split the data in the same way the data was split for training (The difference here is the data is being split locally) and then run the test data through the trained model to get the predicted values."
      ]
    },
    {
      "cell_type": "code",
      "execution_count": null,
      "metadata": {
        "gather": {
          "logged": 1612976320370
        },
        "jupyter": {
          "outputs_hidden": false,
          "source_hidden": false
        },
        "nteract": {
          "transient": {
            "deleting": false
          }
        }
      },
      "outputs": [],
      "source": [
        "# convert the test data to dataframe\n",
        "X_test_df = validation_data.drop_columns(\n",
        "    columns=[label_column_name]\n",
        ").to_pandas_dataframe()\n",
        "y_test_df = validation_data.keep_columns(\n",
        "    columns=[label_column_name], validate=True\n",
        ").to_pandas_dataframe()"
      ]
    },
    {
      "cell_type": "code",
      "execution_count": null,
      "metadata": {
        "gather": {
          "logged": 1612976325829
        },
        "jupyter": {
          "outputs_hidden": false,
          "source_hidden": false
        },
        "nteract": {
          "transient": {
            "deleting": false
          }
        }
      },
      "outputs": [],
      "source": [
        "# call the predict functions on the model\n",
        "y_pred = best_model.predict(X_test_df)\n",
        "y_pred"
      ]
    },
    {
      "cell_type": "markdown",
      "metadata": {
        "nteract": {
          "transient": {
            "deleting": false
          }
        }
      },
      "source": [
        "\n",
        "\n",
        "### Calculate metrics for the prediction\n",
        "\n",
        "Now visualize the data to show what our truth (actual) values are compared to the predicted values \n",
        "from the trained model that was returned.\n",
        "\n"
      ]
    },
    {
      "cell_type": "code",
      "execution_count": null,
      "metadata": {
        "gather": {
          "logged": 1612976330108
        },
        "jupyter": {
          "outputs_hidden": false,
          "source_hidden": false
        },
        "nteract": {
          "transient": {
            "deleting": false
          }
        }
      },
      "outputs": [],
      "source": [
        "from sklearn.metrics import confusion_matrix\n",
        "import numpy as np\n",
        "import itertools\n",
        "\n",
        "cf = confusion_matrix(y_test_df.values, y_pred)\n",
        "plt.imshow(cf, cmap=plt.cm.Blues, interpolation=\"nearest\")\n",
        "plt.colorbar()\n",
        "plt.title(\"Confusion Matrix\")\n",
        "plt.xlabel(\"Predicted\")\n",
        "plt.ylabel(\"Actual\")\n",
        "class_labels = [\"False\", \"True\"]\n",
        "tick_marks = np.arange(len(class_labels))\n",
        "plt.xticks(tick_marks, class_labels)\n",
        "plt.yticks([-0.5, 0, 1, 1.5], [\"\", \"False\", \"True\", \"\"])\n",
        "# plotting text value inside cells\n",
        "thresh = cf.max() / 2.0\n",
        "for i, j in itertools.product(range(cf.shape[0]), range(cf.shape[1])):\n",
        "    plt.text(\n",
        "        j,\n",
        "        i,\n",
        "        format(cf[i, j], \"d\"),\n",
        "        horizontalalignment=\"center\",\n",
        "        color=\"white\" if cf[i, j] > thresh else \"black\",\n",
        "    )\n",
        "plt.show()"
      ]
    },
    {
      "cell_type": "markdown",
      "metadata": {
        "nteract": {
          "transient": {
            "deleting": false
          }
        }
      },
      "source": [
        "## Control cost and further exploration\n",
        "\n",
        "If you want to control cost you can stop the compute instance this notebook is running on by clicking the \"Stop compute\" button next to the status dropdown in the menu above.\n",
        "\n",
        "\n",
        "If you want to run more notebook samples, you can click on **Sample Notebooks** next to the **Files** view and explore the notebooks made available for you there."
      ]
    }
  ],
  "metadata": {
    "authors": [
      {
        "name": "cewidste"
      }
    ],
    "kernelspec": {
      "display_name": "Python 3.10 - SDK v2",
      "language": "python",
      "name": "python310-sdkv2"
    },
    "notice": "Copyright (c) Microsoft Corporation. All rights reserved. Licensed under the MIT License.",
    "nteract": {
      "version": "nteract-front-end@1.0.0"
    }
  },
  "nbformat": 4,
  "nbformat_minor": 4
}
